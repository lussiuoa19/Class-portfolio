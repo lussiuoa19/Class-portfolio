{
 "cells": [
  {
   "cell_type": "markdown",
   "id": "4256dc96",
   "metadata": {},
   "source": [
    "# Assignment #1: Evaluate Data Set\n",
    "\n",
    "In your first graded assignment for this course, you will find and evaluate a data set on a topic of your choosing. You will be given specific questions related to the data set, and you will also be tasked with importing the data from your data set into your Jupyter Notebook environment. \n",
    "\n",
    "## Choose a Broad Topic\n",
    "\n",
    "First, choose a topic of interest to you, such as a specific social issue, a political or cultural trend, a community, or a hobby or personal interest. Ideally, it should be something relatively broad that society or culture is having some sort of conversation about, or which many people think about on a regular basis. Possible examples might be:\n",
    "\n",
    "- Housing and rental prices in New York City\n",
    "- A popular genre of music\n",
    "- A sport\n",
    "- Food prices\n",
    "- Crime\n",
    "- Government spending\n",
    "- Popularity of movies or TV shows \n",
    "- Bestselling books\n",
    "\n",
    "## Find a Data Set\n",
    "\n",
    "Search for terms related to your topic on Google, both generally and by adding specific names of websites where data will commonly be found. The following websites are frequently places to find data sets, and it sometimes makes sense to both search directly on the site and to do regular Google searches with the site name:\n",
    "\n",
    "- [Google Data Set Search](https://datasetsearch.research.google.com/)\n",
    "- [GitHub](https://github.com/)\n",
    "- [Kaggle](https://www.kaggle.com/)\n",
    "- [Data.gov](https://www.data.gov/)\n",
    "\n",
    "For example, if your topic is bestselling books, you might try these searches on Google:\n",
    "\n",
    "- bestselling books data set\n",
    "- bestselling books data set kaggle\n",
    "- bestselling books data set github\n",
    "- bestselling books data set \n",
    "\n",
    "You're not likely to find bestselling books data on data.gov, but you might find a lot of info related to health, the economy, and demographics, since that's what the government is most concerned about."
   ]
  },
  {
   "cell_type": "markdown",
   "id": "1c1a8105",
   "metadata": {},
   "source": [
    "-----"
   ]
  },
  {
   "cell_type": "markdown",
   "id": "9be8caee",
   "metadata": {},
   "source": [
    "What is your topic? (Enter responses to questions like these in the cell provided below.)"
   ]
  },
  {
   "cell_type": "markdown",
   "id": "c9702a5b",
   "metadata": {},
   "source": [
    "\"Topic: Crime\""
   ]
  },
  {
   "cell_type": "markdown",
   "id": "e2b8f153",
   "metadata": {},
   "source": [
    "What drew you to this topic, or why did you choose it?"
   ]
  },
  {
   "cell_type": "markdown",
   "id": "359d76a7",
   "metadata": {},
   "source": [
    "I wanted to explore more in depth about the topic. "
   ]
  },
  {
   "cell_type": "markdown",
   "id": "20048152",
   "metadata": {},
   "source": [
    "## Choose a Data Set\n",
    "\n",
    "Choose a data set to use for the rest of this assignment. The data set doesn't need to be perfect, but ideally it should interest you and be in one of the discussed formats (CSV, TSV, Excel, JSON, .txt). If the data is in another format, either reach out to me to ask about it or choose another data set for this assignment. You may want to look ahead to the rest of this assignment to make sure nothing about the data set will make it difficult to answer the questions or to import the data."
   ]
  },
  {
   "cell_type": "markdown",
   "id": "2ddf052f",
   "metadata": {},
   "source": [
    "It was the crime dataset."
   ]
  },
  {
   "cell_type": "markdown",
   "id": "5e869d8d",
   "metadata": {},
   "source": [
    "What is the name of your data set? Or provide a one-sentence description."
   ]
  },
  {
   "cell_type": "markdown",
   "id": "dc525c3e",
   "metadata": {},
   "source": [
    "What is the URL of the page on which you found the data set? (Paste the full URL.)"
   ]
  },
  {
   "cell_type": "code",
   "execution_count": null,
   "id": "d62b2434-c483-4a3a-9c69-f33f2555fac1",
   "metadata": {},
   "outputs": [],
   "source": [
    "https://data.cityofnewyork.us/Public-Safety/NYPD-Complaint-Data-Current-Year-To-Date-/5uac-w243/about_data"
   ]
  },
  {
   "cell_type": "markdown",
   "id": "4d16c0fa",
   "metadata": {},
   "source": [
    "## Evaluation\n",
    "\n",
    "In this step, you will evaluate the data to the extent possible without using data science tools like Python or Pandas. You should download the data to your computer, and use both the data set itself as downloaded and the page you found it on to answer these questions. If you can't answer a question, write what you tried to do to answer it—don't give up right away, and try to think of other ways to answer the question. (In some cases, you can even contact the person who created the data set—if you do so, feel free to copy me on the email.)"
   ]
  },
  {
   "cell_type": "markdown",
   "id": "ba3a6174",
   "metadata": {},
   "source": [
    "What is the file format or file extension of the data set? Examples might be .csv (Comma Seperated Values), .tsv (Tab Separated Values), .xlsx (Excel workbook), .txt (plain text file), or JSON (JavaScript Object Notation)."
   ]
  },
  {
   "cell_type": "code",
   "execution_count": null,
   "id": "0622aff6-66e7-4367-9589-15ed330f8cdd",
   "metadata": {},
   "outputs": [],
   "source": [
    "https://nam12.safelinks.protection.outlook.com/?url=https%3A%2Fdata.cityofnewyork.us%2FPublicSafety$2FNYPD-Complaint-Data-Current-To-Date-%2F5uacw243%2Fabout_data&data=05%7C02%7Cjarriag000%40citymail.cuny.edu%7Cf5f2143813c14a541c5f08dce4bd0fe9%7Cd916a2d793e94ac99afb45a0d646a0b9%7C0%7C0%7C638636747884792506%7CUnknown%7CTWFpbGZsb3d8eyJWIjoiMC4wLjAwMDAiLCJQljoiV2luMzliLCJJBTil6ik1haWwiLCJXVCI6MnO%3D%7CO%7C%7C&data=VgVyjouMqlkvxjAp%2B5mA2m2a%2BIXEGq%2F7fz8pE4RU8Sk%3D&reserved=0"
   ]
  },
  {
   "cell_type": "markdown",
   "id": "6880764f",
   "metadata": {},
   "source": [
    "What is the size in megabytes (MB)or gigabytes (GB) of the data set?"
   ]
  },
  {
   "cell_type": "markdown",
   "id": "621b781a",
   "metadata": {},
   "source": [
    "1 megabytes"
   ]
  },
  {
   "cell_type": "markdown",
   "id": "e8ba770e",
   "metadata": {},
   "source": [
    "How many columns or fields is the data set? (Columns or fields are different types of data—for example, a book dataset might have title, author, and year as columns.)"
   ]
  },
  {
   "cell_type": "markdown",
   "id": "41ed02fa",
   "metadata": {},
   "source": [
    "282 rows"
   ]
  },
  {
   "cell_type": "markdown",
   "id": "747cbbcb",
   "metadata": {},
   "source": [
    "List out the columns in the data set. (You can put each column on a line, or you can separate the columns with commas.)"
   ]
  },
  {
   "cell_type": "markdown",
   "id": "a63d096c",
   "metadata": {},
   "source": [
    "36 columns"
   ]
  },
  {
   "cell_type": "markdown",
   "id": "799b491b",
   "metadata": {},
   "source": [
    "How many rows is the data set? (To use the book data set example again, each row might represent one book.)"
   ]
  },
  {
   "cell_type": "markdown",
   "id": "05e6b9ae",
   "metadata": {},
   "source": [
    "282 rows"
   ]
  },
  {
   "cell_type": "markdown",
   "id": "9b82706b",
   "metadata": {},
   "source": [
    "What types of data appear in the data set? (You can use Python terms, like \"integer,\" \"float,\" \"boolean,\" \"string,\" or you can use other descriptive terms, like \"numeric data\" or \"text data.\" Try to be as comprehensive as possible in your answer."
   ]
  },
  {
   "cell_type": "markdown",
   "id": "bded6448",
   "metadata": {},
   "source": [
    "metadata"
   ]
  },
  {
   "cell_type": "markdown",
   "id": "ae154ab5",
   "metadata": {},
   "source": [
    "On initial inspection, does anything appear to be missing or wrong in the data set? (Don't spend too long on this.)"
   ]
  },
  {
   "cell_type": "markdown",
   "id": "89d2e870",
   "metadata": {},
   "source": [
    "There;s no changes. "
   ]
  },
  {
   "cell_type": "markdown",
   "id": "30d0ccf4",
   "metadata": {},
   "source": [
    "What kinds of questions could you answer with this data set? In answering this question, write at least one paragraph of at least 150 words."
   ]
  },
  {
   "cell_type": "markdown",
   "id": "ed19997b",
   "metadata": {},
   "source": [
    "The dataset has a lot of content and information in which we can interrupt and answer questions about the comparisons between the groups and analyzing patterns in the data set."
   ]
  },
  {
   "cell_type": "markdown",
   "id": "5fbbecb7",
   "metadata": {},
   "source": [
    "Do you see any issues or limitations with the data set? Alternatively, what do you wish was included in the data set that is not included? (Write at least one paragraph of at least 150 words.)"
   ]
  },
  {
   "cell_type": "markdown",
   "id": "e4ab6eff",
   "metadata": {},
   "source": [
    "The dataset has all the content needed to analyze and to use the data factors so we can answer questions."
   ]
  },
  {
   "cell_type": "code",
   "execution_count": null,
   "id": "b78748d5-7a2a-4358-8050-cf7b74929e6f",
   "metadata": {},
   "outputs": [],
   "source": [
    "## Reading the Data in Python\n",
    "\n",
    "Using as many cells as you need in the rest of this notebook, load the data into Python. You will probably want to use Pandas to load the data. Some example code is provided for you below. \n",
    "\n",
    "To use the example code in a Jupyter Notebook on your computer, you will need to make sure your data set is in the same folder as your notebook, and that you get the filename *exactly* right, including the extension. Here is example code for a Jupyter Notebook—this is just to get you started, and you are responsible for getting this working, which may involve looking up how to import data using Python and Pandas on Google.\n",
    "\n",
    "```python\n",
    "import pandas\n",
    "\n",
    "df = pandas.read_csv('name_of_data_file.csv')\n",
    "\n",
    "df\n",
    "```\n",
    "\n",
    "If your data is in another format, you will need to use the Pandas function related to that format. For example, to import JSON:\n",
    "\n",
    "```python\n",
    "import pandas\n",
    "\n",
    "df = pandas.read_json('name_of_data_file.json')\n",
    "\n",
    "df\n",
    "```\n",
    "\n",
    "Use as much space as you need below to import the file into Pandas (as above). Make sure the dataframe (df) is shown as an output at the end.\n",
    "\n"
   ]
  },
  {
   "cell_type": "code",
   "execution_count": null,
   "id": "08a6a2db-6b45-4d3c-b1ba-81eaaa4a670b",
   "metadata": {},
   "outputs": [],
   "source": [
    "\"cells\": [\n",
    "    (\"this is a ipnyb file\")\n",
    "    \"cell_type\":\"code,\n",
    "\"execution_count\":null,\n",
    "\"id\": \"9618dd75_3908-4aea-85a3-efb81ecc69f2\",\n",
    "\"metadata\": {}.\n",
    "\"outputs\": {},\n",
    "\"source\": [\n",
    "    \"Topic: Crime\""
   ]
  },
  {
   "cell_type": "code",
   "execution_count": null,
   "id": "cf412284-cc01-44aa-9ec1-741e87a37a82",
   "metadata": {},
   "outputs": [],
   "source": [
    "\"cell_type\": \"code\",\n",
    "\"execution_count\":null,\n",
    "\"od\": \"b7b39c2a-3c69-4f51-8513-9d7f3215f587\",\n",
    "\"metadata\": {},\n",
    "\"outputs\": [],\n",
    "\"source\": [\n",
    " \"Pandas_introduction\"\n",
    "\"Import_Pandas_as_pd\"\n",
    "    "
   ]
  },
  {
   "cell_type": "markdown",
   "id": "0feca2fa-0a99-4bcb-9517-0b25d26dc135",
   "metadata": {},
   "source": [
    "### \"cell_type\":\"code\"\n",
    "\"execution_count\":\"null,\n",
    "\"id\": \"fd65c9ac-a6e4-4d2e-be37-4517d63b6a5d\",\n",
    "\"metadata\": {},\n",
    "\"outputs\": {}\n",
    "\"source\":[\n",
    "\"complaint_data=[24,13,23,5,24,18,28,30,13,34]\""
   ]
  },
  {
   "cell_type": "code",
   "execution_count": null,
   "id": "dae44fac",
   "metadata": {},
   "outputs": [],
   "source": [
    "\"cell-type\": :code\",\n",
    "\"execution+count\":null,\n",
    "\"id\": \"0629dd12-57e8-4ale-8e63-52b10811d612\",\n",
    ":metadata\": {},\n",
    "\"outputs\": {},\n",
    "\"source\": [\n",
    "    \"columns=)CMPLNT_NUM),\n",
    "(addr_pct_cd,) boro_nm), (cmplnt_to_tm),(crm_atp_ctpd_cd), (boro_nm(, (cmplnt_fr_tm),)crm_atpt_cptd_cd),(hadevelpt),(juris_desc),(ky_cd),(loc_of_occur_desc),(ofn_desc),(parks_nm),(pd_cd),(pd_desc),(prem_typ_desc),(rpt_dt),{x_coord_cd),(latitude),(longitude),)lat_lon)\""
   ]
  },
  {
   "cell_type": "code",
   "execution_count": null,
   "id": "ad9101c3-b2ce-4e1d-90c2-99185ce0f229",
   "metadata": {},
   "outputs": [],
   "source": [
    "\"cell_type\": \"code\",\n",
    "\"execution_count\":null,\n",
    "\"id\": 11359010-66d9-491b-b800-aeabf2fd1815\",\n",
    "\"metadata\"L [],\n",
    "\"outputs\": [],\n",
    "\"source\":[\n"
   ]
  },
  {
   "cell_type": "code",
   "execution_count": null,
   "id": "c3e234c3-5e0a-49c5-ad38-18b5f9303eec",
   "metadata": {},
   "outputs": [],
   "source": [
    "\"complaint=pd.Dataframe(data=complaint_data_columns=columns)\"\n",
    "]\n",
    "},\n",
    "{\n",
    "    \"cell_type\":code\",\n",
    "\"execution_count\":null,\n",
    "\"id\": 42a65992-e679-41bf-8cfd-b373f2924454\",\n",
    "\"metadata\":{},\n",
    "\"outputs\":[],\n",
    "\"source\": [\n",
    "\"complaint=286159230      24 MANHATTAN\\n\",\n",
    "\"2016-01=01-01T00,000\\n\",\n",
    "\"15:00\\n\",\n",
    "2018=01-01T00:00:000\\n\",\n",
    "\"284390764\"               13 MANHATTAN\\n\",\n",
    "\"2016=01-0100:000\\n\",\n",
    "\"12:00:00\\n\",\n",
    "\"2024-03-26T00:00:000\\n\",\n",
    "\"282326671                28 MANHATTAN\\n\",\n",
    "\"2016=01=25T00:00:00:000\\n\",\n",
    "\"01:56:00\\n\",\n",
    "\"2016-06-21T00:00:00:000\\n\",\n",
    "\"285539608\"                30 MANHATTAN\\n\",\n",
    "\"2016-07-24T00:00:00.00\\n\",\n",
    "\"00:01:00\\n\",\n",
    "\"2017-07-23T00:00:000\\n\",\n",
    "\"2841731995                14 MANHATTAN\\n\",\n",
    "+2016-12-01T00:00:00:000\\n\",\n",
    "\"00:00.00\\n\",\n",
    "\"2019-09-10T00:00:00:000\\n\",\n",
    "\"284167496                 34 MANHATTAN\\n\",\n",
    "\"2016-12-01T00:00:00:000\\n\",\n",
    "\"00:01:00\\n\",\n",
    "\"2016-12-31T00:00:000\""
   ]
  },
  {
   "cell_type": "code",
   "execution_count": null,
   "id": "1ecb80e1-22d6-44d1-9784-a8fa303460c8",
   "metadata": {},
   "outputs": [],
   "source": [
    "\"cell_type\": \"code\",\n",
    "\"execution_count\":null,\n",
    "\"id\": \"2f7a60e8-4d78-4e8b-9ca2-a08d0d0966b4\",\n",
    "\"metadata\": {}\n",
    "\"outputs\": []\n",
    "\"source\": [\n",
    "\"rows=\\n\",\n",
    "\"Precinct=it's the police station, where the police take care of their duties.\\n\",\n",
    "\"Location=a specific point of place in which something occurs\\n\",\n",
    "\"Date=when something happens, month, day and year.\\n\",\n",
    "\"Time=point in time which hours and minutes each day\".\n",
    "]\n",
    "\"cell_type\": \"code\",\n",
    "\"execution_count\": null,\n",
    "\"id\": \"6d8dcd69-59f1-419c-8c62-016594e51489\",\n",
    "\"metadata\": {},\n",
    "\"outputs\": [],\n",
    "\"source\": [\n",
    "\"\\\"import_pandas\\\"\\n\",\n",
    "\"\\\"from_math_import_sqrt\\\"\n",
    "]\n",
    "'"
   ]
  },
  {
   "cell_type": "code",
   "execution_count": null,
   "id": "ae13b705-2d84-4c1e-9800-86de268f6d5a",
   "metadata": {},
   "outputs": [],
   "source": [
    "\"cell_type\": \"code\",\n",
    "\"execution_count\":null,\n",
    "\"id\":\"f3c16fa7-aa83-41e5-ae85-af0849ce508d\",\n",
    "\"metadata\": {},\n",
    "\"outputs\": [],\n",
    "\"source\": [\n",
    "\"Import_pandas_as_pd\\n\",\n",
    "\"pd.read_csv(\\\"filepath\\\")\""
   ]
  },
  {
   "cell_type": "code",
   "execution_count": null,
   "id": "51dbc75a-795c-4ce9-b44d-a6c15e4267f1",
   "metadata": {},
   "outputs": [],
   "source": [
    "\"cell_type\": \"code\",\n",
    "\"execution_count\": null,\n",
    "\"id\": \"2a449c53-917d-4bc0-8287-b6dff58fb6d7\",\n",
    "\"metadata\": {},\n",
    "\"outputs\":[],\n",
    "\"source\": [\n",
    "    \"https://data.cityofnewyork.us/Public-Safety/NYPD-Complaint-Data_Current-Year-To-Date-/5uac-w243/about_data\"."
   ]
  },
  {
   "cell_type": "code",
   "execution_count": null,
   "id": "561bdebe-2e70-44f8-b478-83847280b2a5",
   "metadata": {},
   "outputs": [],
   "source": [
    "\"metadata\": {\n",
    "\"kernelspec\":{\n",
    "\"display_name\": \"Python_3 (ipykernel)\",\n",
    "\"language\": \"python\",\n",
    "\"name\": \"python3\",\n",
    "\n",
    "\"language_info\": {\n",
    "\"codemirror_mode\":{\n",
    "\"name\": \"ipython\",\n",
    "\"version\":3\n",
    "\n",
    "\"file_extension\": \"pd\",\n",
    "\"mimetype\": \"text/x-python\",\n",
    "\"name\": \"python\",\n",
    "\"nbconvert_exporter\": \"python\",\n",
    "\"pygments_lexers\": \"ipython2\",\n",
    "    \"version\": \"3.12.4\",\n",
    "\n",
    "\"nbformat\":4,\n",
    "\"nbformat_minor\":5"
   ]
  }
 ],
 "metadata": {
  "kernelspec": {
   "display_name": "Python 3 (ipykernel)",
   "language": "python",
   "name": "python3"
  },
  "language_info": {
   "codemirror_mode": {
    "name": "ipython",
    "version": 3
   },
   "file_extension": ".py",
   "mimetype": "text/x-python",
   "name": "python",
   "nbconvert_exporter": "python",
   "pygments_lexer": "ipython3",
   "version": "3.12.4"
  }
 },
 "nbformat": 4,
 "nbformat_minor": 5
}
