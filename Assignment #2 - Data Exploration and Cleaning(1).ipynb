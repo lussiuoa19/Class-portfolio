{
 "cells": [
  {
   "cell_type": "markdown",
   "id": "b93f4789",
   "metadata": {},
   "source": [
    "# Assignment #2: Data Exploration\n",
    "\n",
    "In this assignment, you will demonstrate your knowledge of the Python and Pandas skills we've learned so far. These include:\n",
    "\n",
    "- Getting an overview of your data\n",
    "- Extracting columns\n",
    "- Removing duplicates from your data\n",
    "- Creating a subset of your data by matching a string\n",
    "- Getting a random sample of your data\n",
    "- Sorting your data \n",
    "- Getting fundamental statistical information of a series, such as the mean and median\n",
    "\n",
    "You will not need to formulate or answer a research question for this assignment. You simply need to demonstrate your ability to perform specific operations on the data set you have selected. In the next assignment, your midterm, you will create a narrative exploration of the data using many of the same methods, but in such a way as to use narrative along with data analysis to answer a research question.\n",
    "\n",
    "You may use the data set you imported in assignment #1, or you may choose another data set. That means that you can reuse code you wrote in Assignment #1 to import the data.\n",
    "\n",
    "In the below notebook, I will ask for you to perform a task. Each task will be followed by one or more blank code cells. Use as many cells as you need to complete the task. If you know some other way to complete the task with Python and/or Pandas that is not the way we learned in class, that is also acceptable. Feel free to use Google searches to refresh your memory as to how to perform each task. You will also likely wish to consult the class notebooks, which can be found in [our class repository on GitHub](https://github.com/sha256rma/foundations-of-data-science).\n",
    "\n",
    "If your data set does not have a needed form of data for a task, write code that would perform the task if a column with that data existed, and provide an explanation as a comment or markdown cell.\n",
    "\n",
    "You may receive partial credit for some incomplete or incorrect answers. Please feel free to add comments about your thought process, which will make it more likely that you will receive partial credit.\n",
    "\n",
    "The last cell is a bonus. You will not be penalized for not attempting or completing it.\n",
    "\n",
    "-----"
   ]
  },
  {
   "cell_type": "markdown",
   "id": "2bfcd632",
   "metadata": {},
   "source": [
    "Import Pandas and read your data in as a data frame. Assign the data frame to a variable, such as `df`."
   ]
  },
  {
   "cell_type": "code",
   "execution_count": null,
   "id": "bf198c8b",
   "metadata": {},
   "outputs": [],
   "source": [
    "\"cell_type\": \"code\","
   ]
  },
  {
   "cell_type": "code",
   "execution_count": null,
   "id": "797c533d",
   "metadata": {},
   "outputs": [],
   "source": [
    "\"execution_count\":null"
   ]
  },
  {
   "cell_type": "markdown",
   "id": "a24891c9",
   "metadata": {},
   "source": [
    "Make the data frame visible by placing the data frame variable in a cell by itself."
   ]
  },
  {
   "cell_type": "markdown",
   "id": "4f5083e9-bc37-430b-a376-7b5f6b895cca",
   "metadata": {},
   "source": [
    "## \"id\":\"43e884cb-47af-483b-ba44-ed3ca14f2e27\""
   ]
  },
  {
   "cell_type": "markdown",
   "id": "2bb0ff5d",
   "metadata": {},
   "source": [
    "What columns are in your data frame? Use a function or method that shows all the columns."
   ]
  },
  {
   "cell_type": "code",
   "execution_count": null,
   "id": "eeaee6f1",
   "metadata": {},
   "outputs": [],
   "source": [
    "127 columns"
   ]
  },
  {
   "cell_type": "markdown",
   "id": "b06c4738",
   "metadata": {},
   "source": [
    "Write Python code to output the number of rows in your data frame."
   ]
  },
  {
   "cell_type": "code",
   "execution_count": null,
   "id": "6323742f",
   "metadata": {},
   "outputs": [],
   "source": [
    "\"\\\"outputs\\\":[127]\\n\""
   ]
  },
  {
   "cell_type": "markdown",
   "id": "e8644b85",
   "metadata": {},
   "source": [
    "Write code to output a column from your data frame as a series. (Extract a column.)"
   ]
  },
  {
   "cell_type": "code",
   "execution_count": null,
   "id": "6ed1a654",
   "metadata": {},
   "outputs": [],
   "source": [
    "\"\\\"outputs\\\":[127\\n\""
   ]
  },
  {
   "cell_type": "code",
   "execution_count": null,
   "id": "da4ca19e",
   "metadata": {},
   "outputs": [],
   "source": []
  },
  {
   "cell_type": "markdown",
   "id": "af635ed6",
   "metadata": {},
   "source": [
    "### Read the example below to **count** duplicates based on specific columns (e.g., 'Name' and 'Age')\n",
    "\n",
    "Check duplicates based on 'Name' and 'Age' columns (modify the subset for your own columns):\n",
    "\n",
    "`duplicates_subset = df.duplicated(subset=['Name', 'Age'])`\n",
    "\n",
    "Count the number of duplicates in the subset:\n",
    "\n",
    "`num_duplicates_subset = duplicates_subset.sum()`\n",
    "\n",
    "Display no. of duplicate rows based on your column(s):\n",
    "\n",
    "`print(f\"\\nNumber of duplicate rows based on 'Name' and 'Age': {num_duplicates_subset}\")`\n"
   ]
  },
  {
   "cell_type": "markdown",
   "id": "d8b3bfe9",
   "metadata": {},
   "source": [
    "After reading the above, modify the code snippets to check for duplicate columns in your own data frame"
   ]
  },
  {
   "cell_type": "code",
   "execution_count": null,
   "id": "8cf0f9d8",
   "metadata": {},
   "outputs": [],
   "source": [
    "\"id\":\"43e883cb-47af-483b-ba44-ed3ca13f2e27\""
   ]
  },
  {
   "cell_type": "code",
   "execution_count": null,
   "id": "a6d1f7ef",
   "metadata": {},
   "outputs": [],
   "source": [
    "\"\\id\": \\\"5f39f6e8-56f5-4c12-8d93-50d484881bb6\\\",\\n\""
   ]
  },
  {
   "cell_type": "code",
   "execution_count": null,
   "id": "4d155faa",
   "metadata": {},
   "outputs": [],
   "source": [
    "\"id\":\"0744f30a-1be6-4049-96a4-8adea994f53b\""
   ]
  },
  {
   "cell_type": "markdown",
   "id": "a2da032a",
   "metadata": {},
   "source": [
    "If any duplicates exist within a column, remove them with the `.drop_duplicates()` function"
   ]
  },
  {
   "cell_type": "code",
   "execution_count": null,
   "id": "cc788657",
   "metadata": {},
   "outputs": [],
   "source": [
    "\"id\":43e884cb-47af-483b-ba44-ed3ca14f2e27.drop_duplicates"
   ]
  },
  {
   "cell_type": "markdown",
   "id": "75965556",
   "metadata": {},
   "source": [
    "Write Python code to output the number of rows in your data frame."
   ]
  },
  {
   "cell_type": "code",
   "execution_count": null,
   "id": "069bb2fa",
   "metadata": {},
   "outputs": [],
   "source": [
    "\"Output:[127]\""
   ]
  },
  {
   "cell_type": "markdown",
   "id": "4f728b70",
   "metadata": {},
   "source": [
    "Compare the new value with the first time you outputted the number of rows above. Is it more, less, or the same?"
   ]
  },
  {
   "cell_type": "markdown",
   "id": "10a47f50",
   "metadata": {},
   "source": [
    "It is less."
   ]
  },
  {
   "cell_type": "markdown",
   "id": "1a9df537",
   "metadata": {},
   "source": [
    "Create a subset of the data that matches a specific string in a column. That is, extract all rows of the original data frame that contain a specific string in one of the columns. Save the resulting data frame to a variable. (Add more cells if needed)"
   ]
  },
  {
   "cell_type": "code",
   "execution_count": null,
   "id": "b4e0a375",
   "metadata": {},
   "outputs": [],
   "source": [
    "280510523"
   ]
  },
  {
   "cell_type": "code",
   "execution_count": null,
   "id": "06498731",
   "metadata": {},
   "outputs": [],
   "source": [
    "286736978"
   ]
  },
  {
   "cell_type": "markdown",
   "id": "8ce688ed",
   "metadata": {},
   "source": [
    "Output the length of the resulting data frame (the subset of your data for which the conditional was true)."
   ]
  },
  {
   "cell_type": "code",
   "execution_count": null,
   "id": "bd2ab816",
   "metadata": {},
   "outputs": [],
   "source": [
    "289019347"
   ]
  },
  {
   "cell_type": "markdown",
   "id": "ad96d460",
   "metadata": {},
   "source": [
    "Output the first ten rows of your data set, the last ten rows of your data set, and a random ten rows of your data set (a sample of your data)."
   ]
  },
  {
   "cell_type": "code",
   "execution_count": null,
   "id": "1bf71cb0",
   "metadata": {},
   "outputs": [],
   "source": [
    "\"cell_type\":\"code\",\n",
    "\"execution_count\":null,\n",
    "\"id\": \"43e884cb-47af-483b-ba44-ed3ca14f2e27\",\n",
    "\"metadata\":{}\n",
    "\"outputs\":[],\n",
    "\"source\":[\n",
    "\"\\cells\\\": [\\n\"\n",
    "    [\\n,"
   ]
  },
  {
   "cell_type": "code",
   "execution_count": null,
   "id": "59e6227f",
   "metadata": {},
   "outputs": [],
   "source": [
    "\"\\cell_type\\\":\\\"code\\\"\\n\",\n",
    "\"\\\"execution_count\\\":null,\\n\"\n",
    "'\\\"id\\\":|5f39f6e8-56f5-4c12-8d93-50d484881bb6\\\",\\n\"\n",
    "\"\\metadata\\\":()\\n\",\n"
   ]
  },
  {
   "cell_type": "code",
   "execution_count": null,
   "id": "e3585e15",
   "metadata": {},
   "outputs": [],
   "source": []
  },
  {
   "cell_type": "markdown",
   "id": "7e96f519",
   "metadata": {},
   "source": [
    "## Bonus\n",
    "\n",
    "You may want to refer to the [Pandas Cheat Sheet](https://pandas.pydata.org/Pandas_Cheat_Sheet.pdf)."
   ]
  },
  {
   "cell_type": "markdown",
   "id": "4c6d9319",
   "metadata": {},
   "source": [
    "Sort your data frame by a particular column and output the result."
   ]
  },
  {
   "cell_type": "code",
   "execution_count": null,
   "id": "fab623b1",
   "metadata": {},
   "outputs": [],
   "source": [
    "\"Complaint_data=[24, 13, 23, 5, 24, 18, 28, 30, 13, 24]\""
   ]
  },
  {
   "cell_type": "code",
   "execution_count": null,
   "id": "2797159d",
   "metadata": {},
   "outputs": [],
   "source": [
    "\"Complaint_data=[24, 13, 28, 30]\""
   ]
  },
  {
   "cell_type": "markdown",
   "id": "4cbd44ef",
   "metadata": {},
   "source": [
    "Pick a column in your data set with numeric data (integers or floats). Output the mean (average) and median of that column."
   ]
  },
  {
   "cell_type": "code",
   "execution_count": null,
   "id": "5fcd45c6",
   "metadata": {},
   "outputs": [],
   "source": [
    "2016-06-21T00:00:000\\n\",\n",
    "\"285539688              30 MANHATTAN\\n\",\n",
    "\"2016-7-24T00:00:00.00\\n\",\n",
    "\"00:01:00\\n\".\n",
    "\"2017-07-23T00:00:000\\n\",\n",
    "\"2841731995             14 MANHATTAN\\n\""
   ]
  }
 ],
 "metadata": {
  "kernelspec": {
   "display_name": "Python 3 (ipykernel)",
   "language": "python",
   "name": "python3"
  },
  "language_info": {
   "codemirror_mode": {
    "name": "ipython",
    "version": 3
   },
   "file_extension": ".py",
   "mimetype": "text/x-python",
   "name": "python",
   "nbconvert_exporter": "python",
   "pygments_lexer": "ipython3",
   "version": "3.12.4"
  }
 },
 "nbformat": 4,
 "nbformat_minor": 5
}
